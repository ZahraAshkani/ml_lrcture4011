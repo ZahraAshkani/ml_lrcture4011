{
 "cells": [
  {
   "cell_type": "markdown",
   "metadata": {},
   "source": [
    "# Installed required libraries"
   ]
  },
  {
   "cell_type": "raw",
   "metadata": {},
   "source": [
    "numpy, pandas, matplotlib, sklearn"
   ]
  },
  {
   "cell_type": "markdown",
   "metadata": {},
   "source": [
    "# Import Libraries"
   ]
  },
  {
   "cell_type": "code",
   "execution_count": 1,
   "metadata": {
    "ExecuteTime": {
     "end_time": "2022-10-29T23:17:54.159802Z",
     "start_time": "2022-10-29T23:17:54.146807Z"
    }
   },
   "outputs": [
    {
     "name": "stdout",
     "output_type": "stream",
     "text": [
      "Libraries loaded.\n"
     ]
    }
   ],
   "source": [
    "import numpy as np\n",
    "import pandas as pd\n",
    "from sklearn.preprocessing import LabelEncoder\n",
    "\n",
    "import matplotlib.pyplot as plt\n",
    "\n",
    "print('Libraries loaded.')"
   ]
  },
  {
   "cell_type": "markdown",
   "metadata": {},
   "source": [
    "# Loading dataset"
   ]
  },
  {
   "cell_type": "code",
   "execution_count": 2,
   "metadata": {
    "ExecuteTime": {
     "end_time": "2022-10-29T23:17:54.239751Z",
     "start_time": "2022-10-29T23:17:54.165795Z"
    }
   },
   "outputs": [
    {
     "name": "stdout",
     "output_type": "stream",
     "text": [
      "Data loaded and the opened file stream has closed.\n"
     ]
    }
   ],
   "source": [
    "file = open('Data/iris.txt', 'r')\n",
    "\n",
    "data = file.read().split()\n",
    "\n",
    "file.close()\n",
    "\n",
    "print('Data loaded and the opened file stream has closed.')"
   ]
  },
  {
   "cell_type": "code",
   "execution_count": 3,
   "metadata": {
    "ExecuteTime": {
     "end_time": "2022-10-29T23:17:54.333517Z",
     "start_time": "2022-10-29T23:17:54.247746Z"
    }
   },
   "outputs": [
    {
     "data": {
      "text/plain": [
       "['5.9,3,4.2,1.5,\"Iris-versicolor\"',\n",
       " '6.9,3.1,4.9,1.5,\"Iris-versicolor\"',\n",
       " '6.6,2.9,4.6,1.3,\"Iris-versicolor\"',\n",
       " '4.6,3.2,1.4,0.2,\"Iris-setosa\"',\n",
       " '6,2.2,4,1,\"Iris-versicolor\"',\n",
       " '4.7,3.2,1.3,0.2,\"Iris-setosa\"',\n",
       " '6.5,3,5.8,2.2,\"Iris-virginica\"',\n",
       " '5.8,2.7,5.1,1.9,\"Iris-virginica\"',\n",
       " '6.7,3.1,5.6,2.4,\"Iris-virginica\"',\n",
       " '6.7,2.5,5.8,1.8,\"Iris-virginica\"',\n",
       " '5.1,3.7,1.5,0.4,\"Iris-setosa\"',\n",
       " '5.1,3.8,1.5,0.3,\"Iris-setosa\"',\n",
       " '5.7,3,4.2,1.2,\"Iris-versicolor\"',\n",
       " '6.1,3,4.9,1.8,\"Iris-virginica\"',\n",
       " '4.9,3.1,1.5,0.1,\"Iris-setosa\"',\n",
       " '5,3.4,1.6,0.4,\"Iris-setosa\"',\n",
       " '5,3.4,1.5,0.2,\"Iris-setosa\"',\n",
       " '5.7,2.8,4.1,1.3,\"Iris-versicolor\"',\n",
       " '5,3.3,1.4,0.2,\"Iris-setosa\"',\n",
       " '7.2,3.2,6,1.8,\"Iris-virginica\"',\n",
       " '5.9,3,5.1,1.8,\"Iris-virginica\"',\n",
       " '6.5,3,5.2,2,\"Iris-virginica\"',\n",
       " '5.7,4.4,1.5,0.4,\"Iris-setosa\"',\n",
       " '5.5,2.5,4,1.3,\"Iris-versicolor\"',\n",
       " '4.9,2.5,4.5,1.7,\"Iris-virginica\"',\n",
       " '5,3.5,1.6,0.6,\"Iris-setosa\"',\n",
       " '5.5,2.3,4,1.3,\"Iris-versicolor\"',\n",
       " '4.6,3.1,1.5,0.2,\"Iris-setosa\"',\n",
       " '7.2,3,5.8,1.6,\"Iris-virginica\"',\n",
       " '6.8,3.2,5.9,2.3,\"Iris-virginica\"',\n",
       " '5.4,3.9,1.3,0.4,\"Iris-setosa\"',\n",
       " '5,3.2,1.2,0.2,\"Iris-setosa\"',\n",
       " '5.7,2.5,5,2,\"Iris-virginica\"',\n",
       " '5.8,2.6,4,1.2,\"Iris-versicolor\"',\n",
       " '5.1,2.5,3,1.1,\"Iris-versicolor\"',\n",
       " '5.6,2.5,3.9,1.1,\"Iris-versicolor\"',\n",
       " '5.8,2.7,4.1,1,\"Iris-versicolor\"',\n",
       " '5.1,3.8,1.9,0.4,\"Iris-setosa\"',\n",
       " '6.3,2.3,4.4,1.3,\"Iris-versicolor\"',\n",
       " '6.3,2.5,5,1.9,\"Iris-virginica\"',\n",
       " '5.6,3,4.5,1.5,\"Iris-versicolor\"',\n",
       " '6.1,3,4.6,1.4,\"Iris-versicolor\"',\n",
       " '6.8,3,5.5,2.1,\"Iris-virginica\"',\n",
       " '7.3,2.9,6.3,1.8,\"Iris-virginica\"',\n",
       " '5.6,2.7,4.2,1.3,\"Iris-versicolor\"',\n",
       " '4.8,3,1.4,0.1,\"Iris-setosa\"',\n",
       " '7.1,3,5.9,2.1,\"Iris-virginica\"',\n",
       " '5.7,2.6,3.5,1,\"Iris-versicolor\"',\n",
       " '5.3,3.7,1.5,0.2,\"Iris-setosa\"',\n",
       " '5.7,3.8,1.7,0.3,\"Iris-setosa\"',\n",
       " '5.7,2.9,4.2,1.3,\"Iris-versicolor\"',\n",
       " '5.6,2.8,4.9,2,\"Iris-virginica\"',\n",
       " '4.4,3,1.3,0.2,\"Iris-setosa\"',\n",
       " '6.3,3.3,6,2.5,\"Iris-virginica\"',\n",
       " '5.4,3.4,1.5,0.4,\"Iris-setosa\"',\n",
       " '6.3,3.4,5.6,2.4,\"Iris-virginica\"',\n",
       " '6.9,3.1,5.4,2.1,\"Iris-virginica\"',\n",
       " '7.7,3,6.1,2.3,\"Iris-virginica\"',\n",
       " '6.1,2.8,4.7,1.2,\"Iris-versicolor\"',\n",
       " '5.6,2.9,3.6,1.3,\"Iris-versicolor\"',\n",
       " '6.1,2.6,5.6,1.4,\"Iris-virginica\"',\n",
       " '6.4,2.7,5.3,1.9,\"Iris-virginica\"',\n",
       " '5,3.5,1.3,0.3,\"Iris-setosa\"',\n",
       " '5.1,3.3,1.7,0.5,\"Iris-setosa\"',\n",
       " '5.6,3,4.1,1.3,\"Iris-versicolor\"',\n",
       " '5.4,3,4.5,1.5,\"Iris-versicolor\"',\n",
       " '5.8,2.8,5.1,2.4,\"Iris-virginica\"',\n",
       " '4.9,3.1,1.5,0.1,\"Iris-setosa\"',\n",
       " '4.6,3.6,1,0.2,\"Iris-setosa\"',\n",
       " '5.2,3.4,1.4,0.2,\"Iris-setosa\"',\n",
       " '7.9,3.8,6.4,2,\"Iris-virginica\"',\n",
       " '7.7,2.6,6.9,2.3,\"Iris-virginica\"',\n",
       " '6.1,2.8,4,1.3,\"Iris-versicolor\"',\n",
       " '5.5,3.5,1.3,0.2,\"Iris-setosa\"',\n",
       " '4.6,3.4,1.4,0.3,\"Iris-setosa\"',\n",
       " '4.7,3.2,1.6,0.2,\"Iris-setosa\"',\n",
       " '4.4,2.9,1.4,0.2,\"Iris-setosa\"',\n",
       " '6.2,2.8,4.8,1.8,\"Iris-virginica\"',\n",
       " '4.8,3,1.4,0.3,\"Iris-setosa\"',\n",
       " '6,2.9,4.5,1.5,\"Iris-versicolor\"',\n",
       " '6.2,3.4,5.4,2.3,\"Iris-virginica\"',\n",
       " '5,2.3,3.3,1,\"Iris-versicolor\"',\n",
       " '6.4,3.2,4.5,1.5,\"Iris-versicolor\"',\n",
       " '6.3,2.9,5.6,1.8,\"Iris-virginica\"',\n",
       " '6.7,3,5,1.7,\"Iris-versicolor\"',\n",
       " '5,2,3.5,1,\"Iris-versicolor\"',\n",
       " '5.9,3.2,4.8,1.8,\"Iris-versicolor\"',\n",
       " '6.7,3.3,5.7,2.5,\"Iris-virginica\"',\n",
       " '5.4,3.9,1.7,0.4,\"Iris-setosa\"',\n",
       " '6.3,2.7,4.9,1.8,\"Iris-virginica\"',\n",
       " '4.8,3.4,1.6,0.2,\"Iris-setosa\"',\n",
       " '4.4,3.2,1.3,0.2,\"Iris-setosa\"',\n",
       " '6.4,3.2,5.3,2.3,\"Iris-virginica\"',\n",
       " '6.2,2.2,4.5,1.5,\"Iris-versicolor\"',\n",
       " '6,2.2,5,1.5,\"Iris-virginica\"',\n",
       " '7.4,2.8,6.1,1.9,\"Iris-virginica\"',\n",
       " '4.9,2.4,3.3,1,\"Iris-versicolor\"',\n",
       " '7,3.2,4.7,1.4,\"Iris-versicolor\"',\n",
       " '5.5,2.4,3.7,1,\"Iris-versicolor\"',\n",
       " '6.3,3.3,4.7,1.6,\"Iris-versicolor\"',\n",
       " '6.8,2.8,4.8,1.4,\"Iris-versicolor\"',\n",
       " '6.1,2.9,4.7,1.4,\"Iris-versicolor\"',\n",
       " '6.5,3.2,5.1,2,\"Iris-virginica\"',\n",
       " '6.7,3.3,5.7,2.1,\"Iris-virginica\"',\n",
       " '6.7,3.1,4.4,1.4,\"Iris-versicolor\"',\n",
       " '4.8,3.4,1.9,0.2,\"Iris-setosa\"',\n",
       " '4.9,3,1.4,0.2,\"Iris-setosa\"',\n",
       " '6.9,3.2,5.7,2.3,\"Iris-virginica\"',\n",
       " '4.5,2.3,1.3,0.3,\"Iris-setosa\"',\n",
       " '4.3,3,1.1,0.1,\"Iris-setosa\"',\n",
       " '5.2,2.7,3.9,1.4,\"Iris-versicolor\"',\n",
       " '5,3.6,1.4,0.2,\"Iris-setosa\"',\n",
       " '6.4,2.9,4.3,1.3,\"Iris-versicolor\"',\n",
       " '5.2,3.5,1.5,0.2,\"Iris-setosa\"',\n",
       " '5.8,2.7,3.9,1.2,\"Iris-versicolor\"',\n",
       " '5.5,4.2,1.4,0.2,\"Iris-setosa\"',\n",
       " '7.6,3,6.6,2.1,\"Iris-virginica\"',\n",
       " '6.3,2.8,5.1,1.5,\"Iris-virginica\"',\n",
       " '6.4,3.1,5.5,1.8,\"Iris-virginica\"',\n",
       " '6.3,2.5,4.9,1.5,\"Iris-versicolor\"',\n",
       " '5.8,2.7,5.1,1.9,\"Iris-virginica\"',\n",
       " '5,3,1.6,0.2,\"Iris-setosa\"',\n",
       " '6.7,3.1,4.7,1.5,\"Iris-versicolor\"',\n",
       " '6,2.7,5.1,1.6,\"Iris-versicolor\"',\n",
       " '5.1,3.5,1.4,0.2,\"Iris-setosa\"',\n",
       " '4.8,3.1,1.6,0.2,\"Iris-setosa\"',\n",
       " '5.7,2.8,4.5,1.3,\"Iris-versicolor\"',\n",
       " '5.1,3.8,1.6,0.2,\"Iris-setosa\"',\n",
       " '6.6,3,4.4,1.4,\"Iris-versicolor\"',\n",
       " '6.4,2.8,5.6,2.1,\"Iris-virginica\"',\n",
       " '5.2,4.1,1.5,0.1,\"Iris-setosa\"',\n",
       " '6.4,2.8,5.6,2.2,\"Iris-virginica\"',\n",
       " '7.7,2.8,6.7,2,\"Iris-virginica\"',\n",
       " '5.8,4,1.2,0.2,\"Iris-setosa\"',\n",
       " '4.9,3.1,1.5,0.1,\"Iris-setosa\"',\n",
       " '5.4,3.7,1.5,0.2,\"Iris-setosa\"',\n",
       " '5.1,3.5,1.4,0.3,\"Iris-setosa\"',\n",
       " '6,3.4,4.5,1.6,\"Iris-versicolor\"',\n",
       " '6.5,3,5.5,1.8,\"Iris-virginica\"',\n",
       " '5.5,2.4,3.8,1.1,\"Iris-versicolor\"',\n",
       " '7.2,3.6,6.1,2.5,\"Iris-virginica\"',\n",
       " '6.9,3.1,5.1,2.3,\"Iris-virginica\"',\n",
       " '6.2,2.9,4.3,1.3,\"Iris-versicolor\"',\n",
       " '6.5,2.8,4.6,1.5,\"Iris-versicolor\"',\n",
       " '6,3,4.8,1.8,\"Iris-virginica\"',\n",
       " '5.4,3.4,1.7,0.2,\"Iris-setosa\"',\n",
       " '5.5,2.6,4.4,1.2,\"Iris-versicolor\"',\n",
       " '6.7,3,5.2,2.3,\"Iris-virginica\"',\n",
       " '7.7,3.8,6.7,2.2,\"Iris-virginica\"',\n",
       " '5.1,3.4,1.5,0.2,\"Iris-setosa\"']"
      ]
     },
     "execution_count": 3,
     "metadata": {},
     "output_type": "execute_result"
    }
   ],
   "source": [
    "data"
   ]
  },
  {
   "cell_type": "code",
   "execution_count": 4,
   "metadata": {
    "ExecuteTime": {
     "end_time": "2022-10-29T23:17:54.508409Z",
     "start_time": "2022-10-29T23:17:54.342512Z"
    }
   },
   "outputs": [
    {
     "data": {
      "text/plain": [
       "[array([5.9, 3. , 4.2, 1.5]),\n",
       " array([6.9, 3.1, 4.9, 1.5]),\n",
       " array([6.6, 2.9, 4.6, 1.3]),\n",
       " array([4.6, 3.2, 1.4, 0.2]),\n",
       " array([6. , 2.2, 4. , 1. ]),\n",
       " array([4.7, 3.2, 1.3, 0.2]),\n",
       " array([6.5, 3. , 5.8, 2.2]),\n",
       " array([5.8, 2.7, 5.1, 1.9]),\n",
       " array([6.7, 3.1, 5.6, 2.4]),\n",
       " array([6.7, 2.5, 5.8, 1.8]),\n",
       " array([5.1, 3.7, 1.5, 0.4]),\n",
       " array([5.1, 3.8, 1.5, 0.3]),\n",
       " array([5.7, 3. , 4.2, 1.2]),\n",
       " array([6.1, 3. , 4.9, 1.8]),\n",
       " array([4.9, 3.1, 1.5, 0.1]),\n",
       " array([5. , 3.4, 1.6, 0.4]),\n",
       " array([5. , 3.4, 1.5, 0.2]),\n",
       " array([5.7, 2.8, 4.1, 1.3]),\n",
       " array([5. , 3.3, 1.4, 0.2]),\n",
       " array([7.2, 3.2, 6. , 1.8]),\n",
       " array([5.9, 3. , 5.1, 1.8]),\n",
       " array([6.5, 3. , 5.2, 2. ]),\n",
       " array([5.7, 4.4, 1.5, 0.4]),\n",
       " array([5.5, 2.5, 4. , 1.3]),\n",
       " array([4.9, 2.5, 4.5, 1.7]),\n",
       " array([5. , 3.5, 1.6, 0.6]),\n",
       " array([5.5, 2.3, 4. , 1.3]),\n",
       " array([4.6, 3.1, 1.5, 0.2]),\n",
       " array([7.2, 3. , 5.8, 1.6]),\n",
       " array([6.8, 3.2, 5.9, 2.3]),\n",
       " array([5.4, 3.9, 1.3, 0.4]),\n",
       " array([5. , 3.2, 1.2, 0.2]),\n",
       " array([5.7, 2.5, 5. , 2. ]),\n",
       " array([5.8, 2.6, 4. , 1.2]),\n",
       " array([5.1, 2.5, 3. , 1.1]),\n",
       " array([5.6, 2.5, 3.9, 1.1]),\n",
       " array([5.8, 2.7, 4.1, 1. ]),\n",
       " array([5.1, 3.8, 1.9, 0.4]),\n",
       " array([6.3, 2.3, 4.4, 1.3]),\n",
       " array([6.3, 2.5, 5. , 1.9]),\n",
       " array([5.6, 3. , 4.5, 1.5]),\n",
       " array([6.1, 3. , 4.6, 1.4]),\n",
       " array([6.8, 3. , 5.5, 2.1]),\n",
       " array([7.3, 2.9, 6.3, 1.8]),\n",
       " array([5.6, 2.7, 4.2, 1.3]),\n",
       " array([4.8, 3. , 1.4, 0.1]),\n",
       " array([7.1, 3. , 5.9, 2.1]),\n",
       " array([5.7, 2.6, 3.5, 1. ]),\n",
       " array([5.3, 3.7, 1.5, 0.2]),\n",
       " array([5.7, 3.8, 1.7, 0.3]),\n",
       " array([5.7, 2.9, 4.2, 1.3]),\n",
       " array([5.6, 2.8, 4.9, 2. ]),\n",
       " array([4.4, 3. , 1.3, 0.2]),\n",
       " array([6.3, 3.3, 6. , 2.5]),\n",
       " array([5.4, 3.4, 1.5, 0.4]),\n",
       " array([6.3, 3.4, 5.6, 2.4]),\n",
       " array([6.9, 3.1, 5.4, 2.1]),\n",
       " array([7.7, 3. , 6.1, 2.3]),\n",
       " array([6.1, 2.8, 4.7, 1.2]),\n",
       " array([5.6, 2.9, 3.6, 1.3]),\n",
       " array([6.1, 2.6, 5.6, 1.4]),\n",
       " array([6.4, 2.7, 5.3, 1.9]),\n",
       " array([5. , 3.5, 1.3, 0.3]),\n",
       " array([5.1, 3.3, 1.7, 0.5]),\n",
       " array([5.6, 3. , 4.1, 1.3]),\n",
       " array([5.4, 3. , 4.5, 1.5]),\n",
       " array([5.8, 2.8, 5.1, 2.4]),\n",
       " array([4.9, 3.1, 1.5, 0.1]),\n",
       " array([4.6, 3.6, 1. , 0.2]),\n",
       " array([5.2, 3.4, 1.4, 0.2]),\n",
       " array([7.9, 3.8, 6.4, 2. ]),\n",
       " array([7.7, 2.6, 6.9, 2.3]),\n",
       " array([6.1, 2.8, 4. , 1.3]),\n",
       " array([5.5, 3.5, 1.3, 0.2]),\n",
       " array([4.6, 3.4, 1.4, 0.3]),\n",
       " array([4.7, 3.2, 1.6, 0.2]),\n",
       " array([4.4, 2.9, 1.4, 0.2]),\n",
       " array([6.2, 2.8, 4.8, 1.8]),\n",
       " array([4.8, 3. , 1.4, 0.3]),\n",
       " array([6. , 2.9, 4.5, 1.5]),\n",
       " array([6.2, 3.4, 5.4, 2.3]),\n",
       " array([5. , 2.3, 3.3, 1. ]),\n",
       " array([6.4, 3.2, 4.5, 1.5]),\n",
       " array([6.3, 2.9, 5.6, 1.8]),\n",
       " array([6.7, 3. , 5. , 1.7]),\n",
       " array([5. , 2. , 3.5, 1. ]),\n",
       " array([5.9, 3.2, 4.8, 1.8]),\n",
       " array([6.7, 3.3, 5.7, 2.5]),\n",
       " array([5.4, 3.9, 1.7, 0.4]),\n",
       " array([6.3, 2.7, 4.9, 1.8]),\n",
       " array([4.8, 3.4, 1.6, 0.2]),\n",
       " array([4.4, 3.2, 1.3, 0.2]),\n",
       " array([6.4, 3.2, 5.3, 2.3]),\n",
       " array([6.2, 2.2, 4.5, 1.5]),\n",
       " array([6. , 2.2, 5. , 1.5]),\n",
       " array([7.4, 2.8, 6.1, 1.9]),\n",
       " array([4.9, 2.4, 3.3, 1. ]),\n",
       " array([7. , 3.2, 4.7, 1.4]),\n",
       " array([5.5, 2.4, 3.7, 1. ]),\n",
       " array([6.3, 3.3, 4.7, 1.6]),\n",
       " array([6.8, 2.8, 4.8, 1.4]),\n",
       " array([6.1, 2.9, 4.7, 1.4]),\n",
       " array([6.5, 3.2, 5.1, 2. ]),\n",
       " array([6.7, 3.3, 5.7, 2.1]),\n",
       " array([6.7, 3.1, 4.4, 1.4]),\n",
       " array([4.8, 3.4, 1.9, 0.2]),\n",
       " array([4.9, 3. , 1.4, 0.2]),\n",
       " array([6.9, 3.2, 5.7, 2.3]),\n",
       " array([4.5, 2.3, 1.3, 0.3]),\n",
       " array([4.3, 3. , 1.1, 0.1]),\n",
       " array([5.2, 2.7, 3.9, 1.4]),\n",
       " array([5. , 3.6, 1.4, 0.2]),\n",
       " array([6.4, 2.9, 4.3, 1.3]),\n",
       " array([5.2, 3.5, 1.5, 0.2]),\n",
       " array([5.8, 2.7, 3.9, 1.2]),\n",
       " array([5.5, 4.2, 1.4, 0.2]),\n",
       " array([7.6, 3. , 6.6, 2.1]),\n",
       " array([6.3, 2.8, 5.1, 1.5]),\n",
       " array([6.4, 3.1, 5.5, 1.8]),\n",
       " array([6.3, 2.5, 4.9, 1.5]),\n",
       " array([5.8, 2.7, 5.1, 1.9]),\n",
       " array([5. , 3. , 1.6, 0.2]),\n",
       " array([6.7, 3.1, 4.7, 1.5]),\n",
       " array([6. , 2.7, 5.1, 1.6]),\n",
       " array([5.1, 3.5, 1.4, 0.2]),\n",
       " array([4.8, 3.1, 1.6, 0.2]),\n",
       " array([5.7, 2.8, 4.5, 1.3]),\n",
       " array([5.1, 3.8, 1.6, 0.2]),\n",
       " array([6.6, 3. , 4.4, 1.4]),\n",
       " array([6.4, 2.8, 5.6, 2.1]),\n",
       " array([5.2, 4.1, 1.5, 0.1]),\n",
       " array([6.4, 2.8, 5.6, 2.2]),\n",
       " array([7.7, 2.8, 6.7, 2. ]),\n",
       " array([5.8, 4. , 1.2, 0.2]),\n",
       " array([4.9, 3.1, 1.5, 0.1]),\n",
       " array([5.4, 3.7, 1.5, 0.2]),\n",
       " array([5.1, 3.5, 1.4, 0.3]),\n",
       " array([6. , 3.4, 4.5, 1.6]),\n",
       " array([6.5, 3. , 5.5, 1.8]),\n",
       " array([5.5, 2.4, 3.8, 1.1]),\n",
       " array([7.2, 3.6, 6.1, 2.5]),\n",
       " array([6.9, 3.1, 5.1, 2.3]),\n",
       " array([6.2, 2.9, 4.3, 1.3]),\n",
       " array([6.5, 2.8, 4.6, 1.5]),\n",
       " array([6. , 3. , 4.8, 1.8]),\n",
       " array([5.4, 3.4, 1.7, 0.2]),\n",
       " array([5.5, 2.6, 4.4, 1.2]),\n",
       " array([6.7, 3. , 5.2, 2.3]),\n",
       " array([7.7, 3.8, 6.7, 2.2]),\n",
       " array([5.1, 3.4, 1.5, 0.2])]"
      ]
     },
     "execution_count": 4,
     "metadata": {},
     "output_type": "execute_result"
    }
   ],
   "source": [
    "prepared_data = []\n",
    "\n",
    "classes = []\n",
    "\n",
    "vectorized_float = np.vectorize(float)\n",
    "\n",
    "for line in data:\n",
    "    \n",
    "    l = line.split(',')\n",
    "    \n",
    "    prepared_data.append(vectorized_float(l[0: 4]))\n",
    "    \n",
    "    classes.append(l[-1][1:-1])\n",
    "###   \n",
    "    \n",
    "prepared_data   "
   ]
  },
  {
   "cell_type": "markdown",
   "metadata": {},
   "source": [
    "# Creating a dateframe"
   ]
  },
  {
   "cell_type": "code",
   "execution_count": 5,
   "metadata": {
    "ExecuteTime": {
     "end_time": "2022-10-29T23:17:54.602877Z",
     "start_time": "2022-10-29T23:17:54.515406Z"
    }
   },
   "outputs": [
    {
     "data": {
      "text/html": [
       "<div>\n",
       "<style scoped>\n",
       "    .dataframe tbody tr th:only-of-type {\n",
       "        vertical-align: middle;\n",
       "    }\n",
       "\n",
       "    .dataframe tbody tr th {\n",
       "        vertical-align: top;\n",
       "    }\n",
       "\n",
       "    .dataframe thead th {\n",
       "        text-align: right;\n",
       "    }\n",
       "</style>\n",
       "<table border=\"1\" class=\"dataframe\">\n",
       "  <thead>\n",
       "    <tr style=\"text-align: right;\">\n",
       "      <th></th>\n",
       "      <th>sepal_length</th>\n",
       "      <th>sepal_width</th>\n",
       "      <th>petal_length</th>\n",
       "      <th>petal_width</th>\n",
       "      <th>class</th>\n",
       "    </tr>\n",
       "  </thead>\n",
       "  <tbody>\n",
       "    <tr>\n",
       "      <th>0</th>\n",
       "      <td>5.9</td>\n",
       "      <td>3.0</td>\n",
       "      <td>4.2</td>\n",
       "      <td>1.5</td>\n",
       "      <td>Iris-versicolor</td>\n",
       "    </tr>\n",
       "    <tr>\n",
       "      <th>1</th>\n",
       "      <td>6.9</td>\n",
       "      <td>3.1</td>\n",
       "      <td>4.9</td>\n",
       "      <td>1.5</td>\n",
       "      <td>Iris-versicolor</td>\n",
       "    </tr>\n",
       "    <tr>\n",
       "      <th>2</th>\n",
       "      <td>6.6</td>\n",
       "      <td>2.9</td>\n",
       "      <td>4.6</td>\n",
       "      <td>1.3</td>\n",
       "      <td>Iris-versicolor</td>\n",
       "    </tr>\n",
       "    <tr>\n",
       "      <th>3</th>\n",
       "      <td>4.6</td>\n",
       "      <td>3.2</td>\n",
       "      <td>1.4</td>\n",
       "      <td>0.2</td>\n",
       "      <td>Iris-setosa</td>\n",
       "    </tr>\n",
       "    <tr>\n",
       "      <th>4</th>\n",
       "      <td>6.0</td>\n",
       "      <td>2.2</td>\n",
       "      <td>4.0</td>\n",
       "      <td>1.0</td>\n",
       "      <td>Iris-versicolor</td>\n",
       "    </tr>\n",
       "  </tbody>\n",
       "</table>\n",
       "</div>"
      ],
      "text/plain": [
       "   sepal_length  sepal_width  petal_length  petal_width            class\n",
       "0           5.9          3.0           4.2          1.5  Iris-versicolor\n",
       "1           6.9          3.1           4.9          1.5  Iris-versicolor\n",
       "2           6.6          2.9           4.6          1.3  Iris-versicolor\n",
       "3           4.6          3.2           1.4          0.2      Iris-setosa\n",
       "4           6.0          2.2           4.0          1.0  Iris-versicolor"
      ]
     },
     "execution_count": 5,
     "metadata": {},
     "output_type": "execute_result"
    }
   ],
   "source": [
    "dataset = pd.DataFrame(prepared_data, \n",
    "                       columns= ['sepal_length', 'sepal_width', 'petal_length', 'petal_width'])\n",
    "\n",
    "dataset['class'] = classes\n",
    "\n",
    "dataset.head()"
   ]
  },
  {
   "cell_type": "code",
   "execution_count": 6,
   "metadata": {},
   "outputs": [
    {
     "data": {
      "text/plain": [
       "pandas.core.frame.DataFrame"
      ]
     },
     "execution_count": 6,
     "metadata": {},
     "output_type": "execute_result"
    }
   ],
   "source": [
    "type(dataset)"
   ]
  },
  {
   "cell_type": "code",
   "execution_count": 7,
   "metadata": {
    "ExecuteTime": {
     "end_time": "2022-10-29T23:17:54.698452Z",
     "start_time": "2022-10-29T23:17:54.607875Z"
    }
   },
   "outputs": [
    {
     "data": {
      "text/html": [
       "<div>\n",
       "<style scoped>\n",
       "    .dataframe tbody tr th:only-of-type {\n",
       "        vertical-align: middle;\n",
       "    }\n",
       "\n",
       "    .dataframe tbody tr th {\n",
       "        vertical-align: top;\n",
       "    }\n",
       "\n",
       "    .dataframe thead th {\n",
       "        text-align: right;\n",
       "    }\n",
       "</style>\n",
       "<table border=\"1\" class=\"dataframe\">\n",
       "  <thead>\n",
       "    <tr style=\"text-align: right;\">\n",
       "      <th></th>\n",
       "      <th>sepal_length</th>\n",
       "      <th>sepal_width</th>\n",
       "      <th>petal_length</th>\n",
       "      <th>petal_width</th>\n",
       "    </tr>\n",
       "  </thead>\n",
       "  <tbody>\n",
       "    <tr>\n",
       "      <th>count</th>\n",
       "      <td>150.000000</td>\n",
       "      <td>150.000000</td>\n",
       "      <td>150.000000</td>\n",
       "      <td>150.000000</td>\n",
       "    </tr>\n",
       "    <tr>\n",
       "      <th>mean</th>\n",
       "      <td>5.843333</td>\n",
       "      <td>3.054000</td>\n",
       "      <td>3.758667</td>\n",
       "      <td>1.198667</td>\n",
       "    </tr>\n",
       "    <tr>\n",
       "      <th>std</th>\n",
       "      <td>0.828066</td>\n",
       "      <td>0.433594</td>\n",
       "      <td>1.764420</td>\n",
       "      <td>0.763161</td>\n",
       "    </tr>\n",
       "    <tr>\n",
       "      <th>min</th>\n",
       "      <td>4.300000</td>\n",
       "      <td>2.000000</td>\n",
       "      <td>1.000000</td>\n",
       "      <td>0.100000</td>\n",
       "    </tr>\n",
       "    <tr>\n",
       "      <th>25%</th>\n",
       "      <td>5.100000</td>\n",
       "      <td>2.800000</td>\n",
       "      <td>1.600000</td>\n",
       "      <td>0.300000</td>\n",
       "    </tr>\n",
       "    <tr>\n",
       "      <th>50%</th>\n",
       "      <td>5.800000</td>\n",
       "      <td>3.000000</td>\n",
       "      <td>4.350000</td>\n",
       "      <td>1.300000</td>\n",
       "    </tr>\n",
       "    <tr>\n",
       "      <th>75%</th>\n",
       "      <td>6.400000</td>\n",
       "      <td>3.300000</td>\n",
       "      <td>5.100000</td>\n",
       "      <td>1.800000</td>\n",
       "    </tr>\n",
       "    <tr>\n",
       "      <th>max</th>\n",
       "      <td>7.900000</td>\n",
       "      <td>4.400000</td>\n",
       "      <td>6.900000</td>\n",
       "      <td>2.500000</td>\n",
       "    </tr>\n",
       "  </tbody>\n",
       "</table>\n",
       "</div>"
      ],
      "text/plain": [
       "       sepal_length  sepal_width  petal_length  petal_width\n",
       "count    150.000000   150.000000    150.000000   150.000000\n",
       "mean       5.843333     3.054000      3.758667     1.198667\n",
       "std        0.828066     0.433594      1.764420     0.763161\n",
       "min        4.300000     2.000000      1.000000     0.100000\n",
       "25%        5.100000     2.800000      1.600000     0.300000\n",
       "50%        5.800000     3.000000      4.350000     1.300000\n",
       "75%        6.400000     3.300000      5.100000     1.800000\n",
       "max        7.900000     4.400000      6.900000     2.500000"
      ]
     },
     "execution_count": 7,
     "metadata": {},
     "output_type": "execute_result"
    }
   ],
   "source": [
    "dataset.describe()"
   ]
  },
  {
   "cell_type": "markdown",
   "metadata": {},
   "source": [
    "# The best way for reading files into dataframes"
   ]
  },
  {
   "cell_type": "code",
   "execution_count": 8,
   "metadata": {
    "ExecuteTime": {
     "end_time": "2022-10-29T23:17:54.792769Z",
     "start_time": "2022-10-29T23:17:54.703447Z"
    }
   },
   "outputs": [
    {
     "data": {
      "text/html": [
       "<div>\n",
       "<style scoped>\n",
       "    .dataframe tbody tr th:only-of-type {\n",
       "        vertical-align: middle;\n",
       "    }\n",
       "\n",
       "    .dataframe tbody tr th {\n",
       "        vertical-align: top;\n",
       "    }\n",
       "\n",
       "    .dataframe thead th {\n",
       "        text-align: right;\n",
       "    }\n",
       "</style>\n",
       "<table border=\"1\" class=\"dataframe\">\n",
       "  <thead>\n",
       "    <tr style=\"text-align: right;\">\n",
       "      <th></th>\n",
       "      <th>0</th>\n",
       "      <th>1</th>\n",
       "      <th>2</th>\n",
       "      <th>3</th>\n",
       "      <th>4</th>\n",
       "    </tr>\n",
       "  </thead>\n",
       "  <tbody>\n",
       "    <tr>\n",
       "      <th>0</th>\n",
       "      <td>5.9</td>\n",
       "      <td>3.0</td>\n",
       "      <td>4.2</td>\n",
       "      <td>1.5</td>\n",
       "      <td>Iris-versicolor</td>\n",
       "    </tr>\n",
       "    <tr>\n",
       "      <th>1</th>\n",
       "      <td>6.9</td>\n",
       "      <td>3.1</td>\n",
       "      <td>4.9</td>\n",
       "      <td>1.5</td>\n",
       "      <td>Iris-versicolor</td>\n",
       "    </tr>\n",
       "    <tr>\n",
       "      <th>2</th>\n",
       "      <td>6.6</td>\n",
       "      <td>2.9</td>\n",
       "      <td>4.6</td>\n",
       "      <td>1.3</td>\n",
       "      <td>Iris-versicolor</td>\n",
       "    </tr>\n",
       "    <tr>\n",
       "      <th>3</th>\n",
       "      <td>4.6</td>\n",
       "      <td>3.2</td>\n",
       "      <td>1.4</td>\n",
       "      <td>0.2</td>\n",
       "      <td>Iris-setosa</td>\n",
       "    </tr>\n",
       "    <tr>\n",
       "      <th>4</th>\n",
       "      <td>6.0</td>\n",
       "      <td>2.2</td>\n",
       "      <td>4.0</td>\n",
       "      <td>1.0</td>\n",
       "      <td>Iris-versicolor</td>\n",
       "    </tr>\n",
       "  </tbody>\n",
       "</table>\n",
       "</div>"
      ],
      "text/plain": [
       "     0    1    2    3                4\n",
       "0  5.9  3.0  4.2  1.5  Iris-versicolor\n",
       "1  6.9  3.1  4.9  1.5  Iris-versicolor\n",
       "2  6.6  2.9  4.6  1.3  Iris-versicolor\n",
       "3  4.6  3.2  1.4  0.2      Iris-setosa\n",
       "4  6.0  2.2  4.0  1.0  Iris-versicolor"
      ]
     },
     "execution_count": 8,
     "metadata": {},
     "output_type": "execute_result"
    }
   ],
   "source": [
    "df_iris = pd.read_csv('Data/iris.txt', sep= ',', header= None) \n",
    "df_iris.head()"
   ]
  },
  {
   "cell_type": "code",
   "execution_count": 9,
   "metadata": {
    "ExecuteTime": {
     "end_time": "2022-10-29T23:17:54.886841Z",
     "start_time": "2022-10-29T23:17:54.797765Z"
    }
   },
   "outputs": [
    {
     "data": {
      "text/plain": [
       "0    float64\n",
       "1    float64\n",
       "2    float64\n",
       "3    float64\n",
       "4     object\n",
       "dtype: object"
      ]
     },
     "execution_count": 9,
     "metadata": {},
     "output_type": "execute_result"
    }
   ],
   "source": [
    "df_iris.dtypes"
   ]
  },
  {
   "cell_type": "markdown",
   "metadata": {},
   "source": [
    "# Preprocessing"
   ]
  },
  {
   "cell_type": "code",
   "execution_count": 10,
   "metadata": {
    "ExecuteTime": {
     "end_time": "2022-10-29T23:17:54.981387Z",
     "start_time": "2022-10-29T23:17:54.896834Z"
    }
   },
   "outputs": [
    {
     "data": {
      "text/html": [
       "<div>\n",
       "<style scoped>\n",
       "    .dataframe tbody tr th:only-of-type {\n",
       "        vertical-align: middle;\n",
       "    }\n",
       "\n",
       "    .dataframe tbody tr th {\n",
       "        vertical-align: top;\n",
       "    }\n",
       "\n",
       "    .dataframe thead th {\n",
       "        text-align: right;\n",
       "    }\n",
       "</style>\n",
       "<table border=\"1\" class=\"dataframe\">\n",
       "  <thead>\n",
       "    <tr style=\"text-align: right;\">\n",
       "      <th></th>\n",
       "      <th>sepal_length</th>\n",
       "      <th>sepal_width</th>\n",
       "      <th>petal_length</th>\n",
       "      <th>petal_width</th>\n",
       "      <th>iris_name</th>\n",
       "    </tr>\n",
       "  </thead>\n",
       "  <tbody>\n",
       "    <tr>\n",
       "      <th>0</th>\n",
       "      <td>5.9</td>\n",
       "      <td>3.0</td>\n",
       "      <td>4.2</td>\n",
       "      <td>1.5</td>\n",
       "      <td>Iris-versicolor</td>\n",
       "    </tr>\n",
       "    <tr>\n",
       "      <th>1</th>\n",
       "      <td>6.9</td>\n",
       "      <td>3.1</td>\n",
       "      <td>4.9</td>\n",
       "      <td>1.5</td>\n",
       "      <td>Iris-versicolor</td>\n",
       "    </tr>\n",
       "    <tr>\n",
       "      <th>2</th>\n",
       "      <td>6.6</td>\n",
       "      <td>2.9</td>\n",
       "      <td>4.6</td>\n",
       "      <td>1.3</td>\n",
       "      <td>Iris-versicolor</td>\n",
       "    </tr>\n",
       "    <tr>\n",
       "      <th>3</th>\n",
       "      <td>4.6</td>\n",
       "      <td>3.2</td>\n",
       "      <td>1.4</td>\n",
       "      <td>0.2</td>\n",
       "      <td>Iris-setosa</td>\n",
       "    </tr>\n",
       "    <tr>\n",
       "      <th>4</th>\n",
       "      <td>6.0</td>\n",
       "      <td>2.2</td>\n",
       "      <td>4.0</td>\n",
       "      <td>1.0</td>\n",
       "      <td>Iris-versicolor</td>\n",
       "    </tr>\n",
       "  </tbody>\n",
       "</table>\n",
       "</div>"
      ],
      "text/plain": [
       "   sepal_length  sepal_width  petal_length  petal_width        iris_name\n",
       "0           5.9          3.0           4.2          1.5  Iris-versicolor\n",
       "1           6.9          3.1           4.9          1.5  Iris-versicolor\n",
       "2           6.6          2.9           4.6          1.3  Iris-versicolor\n",
       "3           4.6          3.2           1.4          0.2      Iris-setosa\n",
       "4           6.0          2.2           4.0          1.0  Iris-versicolor"
      ]
     },
     "execution_count": 10,
     "metadata": {},
     "output_type": "execute_result"
    }
   ],
   "source": [
    "df_iris.columns= ['sepal_length', 'sepal_width', 'petal_length', 'petal_width', 'iris_name']\n",
    "\n",
    "df_iris.head()"
   ]
  },
  {
   "cell_type": "code",
   "execution_count": 11,
   "metadata": {
    "ExecuteTime": {
     "end_time": "2022-10-29T23:18:18.873585Z",
     "start_time": "2022-10-29T23:18:18.816623Z"
    }
   },
   "outputs": [
    {
     "data": {
      "text/html": [
       "<div>\n",
       "<style scoped>\n",
       "    .dataframe tbody tr th:only-of-type {\n",
       "        vertical-align: middle;\n",
       "    }\n",
       "\n",
       "    .dataframe tbody tr th {\n",
       "        vertical-align: top;\n",
       "    }\n",
       "\n",
       "    .dataframe thead th {\n",
       "        text-align: right;\n",
       "    }\n",
       "</style>\n",
       "<table border=\"1\" class=\"dataframe\">\n",
       "  <thead>\n",
       "    <tr style=\"text-align: right;\">\n",
       "      <th></th>\n",
       "      <th>sepal_length</th>\n",
       "      <th>sepal_width</th>\n",
       "      <th>petal_length</th>\n",
       "      <th>petal_width</th>\n",
       "      <th>iris_name</th>\n",
       "      <th>class</th>\n",
       "    </tr>\n",
       "  </thead>\n",
       "  <tbody>\n",
       "    <tr>\n",
       "      <th>0</th>\n",
       "      <td>5.9</td>\n",
       "      <td>3.0</td>\n",
       "      <td>4.2</td>\n",
       "      <td>1.5</td>\n",
       "      <td>Iris-versicolor</td>\n",
       "      <td>1</td>\n",
       "    </tr>\n",
       "    <tr>\n",
       "      <th>1</th>\n",
       "      <td>6.9</td>\n",
       "      <td>3.1</td>\n",
       "      <td>4.9</td>\n",
       "      <td>1.5</td>\n",
       "      <td>Iris-versicolor</td>\n",
       "      <td>1</td>\n",
       "    </tr>\n",
       "    <tr>\n",
       "      <th>2</th>\n",
       "      <td>6.6</td>\n",
       "      <td>2.9</td>\n",
       "      <td>4.6</td>\n",
       "      <td>1.3</td>\n",
       "      <td>Iris-versicolor</td>\n",
       "      <td>1</td>\n",
       "    </tr>\n",
       "    <tr>\n",
       "      <th>3</th>\n",
       "      <td>4.6</td>\n",
       "      <td>3.2</td>\n",
       "      <td>1.4</td>\n",
       "      <td>0.2</td>\n",
       "      <td>Iris-setosa</td>\n",
       "      <td>0</td>\n",
       "    </tr>\n",
       "    <tr>\n",
       "      <th>4</th>\n",
       "      <td>6.0</td>\n",
       "      <td>2.2</td>\n",
       "      <td>4.0</td>\n",
       "      <td>1.0</td>\n",
       "      <td>Iris-versicolor</td>\n",
       "      <td>1</td>\n",
       "    </tr>\n",
       "    <tr>\n",
       "      <th>...</th>\n",
       "      <td>...</td>\n",
       "      <td>...</td>\n",
       "      <td>...</td>\n",
       "      <td>...</td>\n",
       "      <td>...</td>\n",
       "      <td>...</td>\n",
       "    </tr>\n",
       "    <tr>\n",
       "      <th>145</th>\n",
       "      <td>5.4</td>\n",
       "      <td>3.4</td>\n",
       "      <td>1.7</td>\n",
       "      <td>0.2</td>\n",
       "      <td>Iris-setosa</td>\n",
       "      <td>0</td>\n",
       "    </tr>\n",
       "    <tr>\n",
       "      <th>146</th>\n",
       "      <td>5.5</td>\n",
       "      <td>2.6</td>\n",
       "      <td>4.4</td>\n",
       "      <td>1.2</td>\n",
       "      <td>Iris-versicolor</td>\n",
       "      <td>1</td>\n",
       "    </tr>\n",
       "    <tr>\n",
       "      <th>147</th>\n",
       "      <td>6.7</td>\n",
       "      <td>3.0</td>\n",
       "      <td>5.2</td>\n",
       "      <td>2.3</td>\n",
       "      <td>Iris-virginica</td>\n",
       "      <td>2</td>\n",
       "    </tr>\n",
       "    <tr>\n",
       "      <th>148</th>\n",
       "      <td>7.7</td>\n",
       "      <td>3.8</td>\n",
       "      <td>6.7</td>\n",
       "      <td>2.2</td>\n",
       "      <td>Iris-virginica</td>\n",
       "      <td>2</td>\n",
       "    </tr>\n",
       "    <tr>\n",
       "      <th>149</th>\n",
       "      <td>5.1</td>\n",
       "      <td>3.4</td>\n",
       "      <td>1.5</td>\n",
       "      <td>0.2</td>\n",
       "      <td>Iris-setosa</td>\n",
       "      <td>0</td>\n",
       "    </tr>\n",
       "  </tbody>\n",
       "</table>\n",
       "<p>150 rows × 6 columns</p>\n",
       "</div>"
      ],
      "text/plain": [
       "     sepal_length  sepal_width  petal_length  petal_width        iris_name  \\\n",
       "0             5.9          3.0           4.2          1.5  Iris-versicolor   \n",
       "1             6.9          3.1           4.9          1.5  Iris-versicolor   \n",
       "2             6.6          2.9           4.6          1.3  Iris-versicolor   \n",
       "3             4.6          3.2           1.4          0.2      Iris-setosa   \n",
       "4             6.0          2.2           4.0          1.0  Iris-versicolor   \n",
       "..            ...          ...           ...          ...              ...   \n",
       "145           5.4          3.4           1.7          0.2      Iris-setosa   \n",
       "146           5.5          2.6           4.4          1.2  Iris-versicolor   \n",
       "147           6.7          3.0           5.2          2.3   Iris-virginica   \n",
       "148           7.7          3.8           6.7          2.2   Iris-virginica   \n",
       "149           5.1          3.4           1.5          0.2      Iris-setosa   \n",
       "\n",
       "     class  \n",
       "0        1  \n",
       "1        1  \n",
       "2        1  \n",
       "3        0  \n",
       "4        1  \n",
       "..     ...  \n",
       "145      0  \n",
       "146      1  \n",
       "147      2  \n",
       "148      2  \n",
       "149      0  \n",
       "\n",
       "[150 rows x 6 columns]"
      ]
     },
     "execution_count": 11,
     "metadata": {},
     "output_type": "execute_result"
    }
   ],
   "source": [
    "encoder = LabelEncoder()\n",
    "\n",
    "classes = encoder.fit_transform(df_iris['iris_name'])\n",
    "\n",
    "df_iris['class'] = classes\n",
    "\n",
    "df_iris"
   ]
  },
  {
   "cell_type": "code",
   "execution_count": 12,
   "metadata": {
    "ExecuteTime": {
     "end_time": "2022-10-29T23:19:45.287948Z",
     "start_time": "2022-10-29T23:19:45.247977Z"
    }
   },
   "outputs": [
    {
     "data": {
      "text/html": [
       "<div>\n",
       "<style scoped>\n",
       "    .dataframe tbody tr th:only-of-type {\n",
       "        vertical-align: middle;\n",
       "    }\n",
       "\n",
       "    .dataframe tbody tr th {\n",
       "        vertical-align: top;\n",
       "    }\n",
       "\n",
       "    .dataframe thead th {\n",
       "        text-align: right;\n",
       "    }\n",
       "</style>\n",
       "<table border=\"1\" class=\"dataframe\">\n",
       "  <thead>\n",
       "    <tr style=\"text-align: right;\">\n",
       "      <th></th>\n",
       "      <th>sepal_length</th>\n",
       "      <th>sepal_width</th>\n",
       "      <th>petal_length</th>\n",
       "      <th>petal_width</th>\n",
       "      <th>class</th>\n",
       "    </tr>\n",
       "  </thead>\n",
       "  <tbody>\n",
       "    <tr>\n",
       "      <th>0</th>\n",
       "      <td>5.9</td>\n",
       "      <td>3.0</td>\n",
       "      <td>4.2</td>\n",
       "      <td>1.5</td>\n",
       "      <td>1</td>\n",
       "    </tr>\n",
       "    <tr>\n",
       "      <th>1</th>\n",
       "      <td>6.9</td>\n",
       "      <td>3.1</td>\n",
       "      <td>4.9</td>\n",
       "      <td>1.5</td>\n",
       "      <td>1</td>\n",
       "    </tr>\n",
       "    <tr>\n",
       "      <th>2</th>\n",
       "      <td>6.6</td>\n",
       "      <td>2.9</td>\n",
       "      <td>4.6</td>\n",
       "      <td>1.3</td>\n",
       "      <td>1</td>\n",
       "    </tr>\n",
       "    <tr>\n",
       "      <th>3</th>\n",
       "      <td>4.6</td>\n",
       "      <td>3.2</td>\n",
       "      <td>1.4</td>\n",
       "      <td>0.2</td>\n",
       "      <td>0</td>\n",
       "    </tr>\n",
       "    <tr>\n",
       "      <th>4</th>\n",
       "      <td>6.0</td>\n",
       "      <td>2.2</td>\n",
       "      <td>4.0</td>\n",
       "      <td>1.0</td>\n",
       "      <td>1</td>\n",
       "    </tr>\n",
       "  </tbody>\n",
       "</table>\n",
       "</div>"
      ],
      "text/plain": [
       "   sepal_length  sepal_width  petal_length  petal_width  class\n",
       "0           5.9          3.0           4.2          1.5      1\n",
       "1           6.9          3.1           4.9          1.5      1\n",
       "2           6.6          2.9           4.6          1.3      1\n",
       "3           4.6          3.2           1.4          0.2      0\n",
       "4           6.0          2.2           4.0          1.0      1"
      ]
     },
     "execution_count": 12,
     "metadata": {},
     "output_type": "execute_result"
    }
   ],
   "source": [
    "dataset = df_iris.drop('iris_name', axis= 1)\n",
    "\n",
    "dataset.head()"
   ]
  },
  {
   "cell_type": "markdown",
   "metadata": {
    "heading_collapsed": true
   },
   "source": [
    "# Exploration"
   ]
  },
  {
   "cell_type": "code",
   "execution_count": 13,
   "metadata": {
    "ExecuteTime": {
     "end_time": "2022-10-29T23:23:48.250251Z",
     "start_time": "2022-10-29T23:23:48.048714Z"
    },
    "hidden": true
   },
   "outputs": [
    {
     "data": {
      "text/html": [
       "<div>\n",
       "<style scoped>\n",
       "    .dataframe tbody tr th:only-of-type {\n",
       "        vertical-align: middle;\n",
       "    }\n",
       "\n",
       "    .dataframe tbody tr th {\n",
       "        vertical-align: top;\n",
       "    }\n",
       "\n",
       "    .dataframe thead th {\n",
       "        text-align: right;\n",
       "    }\n",
       "</style>\n",
       "<table border=\"1\" class=\"dataframe\">\n",
       "  <thead>\n",
       "    <tr style=\"text-align: right;\">\n",
       "      <th></th>\n",
       "      <th>sepal_length</th>\n",
       "      <th>sepal_width</th>\n",
       "      <th>petal_length</th>\n",
       "      <th>petal_width</th>\n",
       "    </tr>\n",
       "    <tr>\n",
       "      <th>class</th>\n",
       "      <th></th>\n",
       "      <th></th>\n",
       "      <th></th>\n",
       "      <th></th>\n",
       "    </tr>\n",
       "  </thead>\n",
       "  <tbody>\n",
       "    <tr>\n",
       "      <th>0</th>\n",
       "      <td>5.006</td>\n",
       "      <td>3.418</td>\n",
       "      <td>1.464</td>\n",
       "      <td>0.244</td>\n",
       "    </tr>\n",
       "    <tr>\n",
       "      <th>1</th>\n",
       "      <td>5.936</td>\n",
       "      <td>2.770</td>\n",
       "      <td>4.260</td>\n",
       "      <td>1.326</td>\n",
       "    </tr>\n",
       "    <tr>\n",
       "      <th>2</th>\n",
       "      <td>6.588</td>\n",
       "      <td>2.974</td>\n",
       "      <td>5.552</td>\n",
       "      <td>2.026</td>\n",
       "    </tr>\n",
       "  </tbody>\n",
       "</table>\n",
       "</div>"
      ],
      "text/plain": [
       "       sepal_length  sepal_width  petal_length  petal_width\n",
       "class                                                      \n",
       "0             5.006        3.418         1.464        0.244\n",
       "1             5.936        2.770         4.260        1.326\n",
       "2             6.588        2.974         5.552        2.026"
      ]
     },
     "execution_count": 13,
     "metadata": {},
     "output_type": "execute_result"
    }
   ],
   "source": [
    "dataset.groupby(['class']).mean()"
   ]
  },
  {
   "cell_type": "code",
   "execution_count": 14,
   "metadata": {
    "hidden": true
   },
   "outputs": [
    {
     "data": {
      "text/plain": [
       "sepal_length    5.9\n",
       "sepal_width     3.0\n",
       "petal_length    4.2\n",
       "petal_width     1.5\n",
       "class           1.0\n",
       "Name: 0, dtype: float64"
      ]
     },
     "execution_count": 14,
     "metadata": {},
     "output_type": "execute_result"
    }
   ],
   "source": [
    "dataset.loc[0]"
   ]
  },
  {
   "cell_type": "code",
   "execution_count": 15,
   "metadata": {},
   "outputs": [
    {
     "data": {
      "text/plain": [
       "sepal_length    6.9\n",
       "sepal_width     3.1\n",
       "petal_length    4.9\n",
       "petal_width     1.5\n",
       "class           1.0\n",
       "Name: 1, dtype: float64"
      ]
     },
     "execution_count": 15,
     "metadata": {},
     "output_type": "execute_result"
    }
   ],
   "source": [
    "dataset.loc[1]"
   ]
  },
  {
   "cell_type": "code",
   "execution_count": 16,
   "metadata": {},
   "outputs": [
    {
     "data": {
      "text/plain": [
       "73.84"
      ]
     },
     "execution_count": 16,
     "metadata": {},
     "output_type": "execute_result"
    }
   ],
   "source": [
    "np.dot(dataset.loc[0], dataset.loc[1])"
   ]
  },
  {
   "cell_type": "code",
   "execution_count": null,
   "metadata": {},
   "outputs": [],
   "source": []
  },
  {
   "cell_type": "code",
   "execution_count": null,
   "metadata": {},
   "outputs": [],
   "source": []
  },
  {
   "cell_type": "code",
   "execution_count": null,
   "metadata": {},
   "outputs": [],
   "source": []
  }
 ],
 "metadata": {
  "kernelspec": {
   "display_name": "Python 3 (ipykernel)",
   "language": "python",
   "name": "python3"
  },
  "language_info": {
   "codemirror_mode": {
    "name": "ipython",
    "version": 3
   },
   "file_extension": ".py",
   "mimetype": "text/x-python",
   "name": "python",
   "nbconvert_exporter": "python",
   "pygments_lexer": "ipython3",
   "version": "3.9.13"
  },
  "toc": {
   "base_numbering": 1,
   "nav_menu": {},
   "number_sections": true,
   "sideBar": true,
   "skip_h1_title": false,
   "title_cell": "Table of Contents",
   "title_sidebar": "Contents",
   "toc_cell": false,
   "toc_position": {},
   "toc_section_display": true,
   "toc_window_display": true
  },
  "varInspector": {
   "cols": {
    "lenName": 16,
    "lenType": 16,
    "lenVar": 40
   },
   "kernels_config": {
    "python": {
     "delete_cmd_postfix": "",
     "delete_cmd_prefix": "del ",
     "library": "var_list.py",
     "varRefreshCmd": "print(var_dic_list())"
    },
    "r": {
     "delete_cmd_postfix": ") ",
     "delete_cmd_prefix": "rm(",
     "library": "var_list.r",
     "varRefreshCmd": "cat(var_dic_list()) "
    }
   },
   "types_to_exclude": [
    "module",
    "function",
    "builtin_function_or_method",
    "instance",
    "_Feature"
   ],
   "window_display": false
  }
 },
 "nbformat": 4,
 "nbformat_minor": 2
}
